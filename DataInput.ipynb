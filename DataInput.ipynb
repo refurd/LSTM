{
  "nbformat": 4,
  "nbformat_minor": 0,
  "metadata": {
    "colab": {
      "name": "Adatok_beolvasasa.ipynb",
      "provenance": []
    },
    "kernelspec": {
      "name": "python3",
      "display_name": "Python 3"
    }
  },
  "cells": [
    {
      "cell_type": "code",
      "metadata": {
        "id": "lPpEm-ODy1Hw"
      },
      "source": [
        "#!wget https://raw.githubusercontent.com/CSSEGISandData/COVID-19/master/csse_covid_19_data/csse_covid_19_time_series/time_series_covid19_confirmed_global.csv"
      ],
      "execution_count": null,
      "outputs": []
    },
    {
      "cell_type": "code",
      "metadata": {
        "id": "d1SrXlxGzGOX"
      },
      "source": [
        "import pandas as pd\n",
        "df = pd.read_csv('time_series_covid19_confirmed_global.csv')\n",
        "df.head()"
      ],
      "execution_count": null,
      "outputs": []
    },
    {
      "cell_type": "code",
      "metadata": {
        "id": "6ct1mXvNzQ4g"
      },
      "source": [
        "import numpy as np\n",
        "import matplotlib.pyplot as plt"
      ],
      "execution_count": null,
      "outputs": []
    },
    {
      "cell_type": "code",
      "metadata": {
        "id": "QfiJeYdZzkld"
      },
      "source": [
        "df_hun = df.loc[df['Country/Region'] == 'Hungary']"
      ],
      "execution_count": null,
      "outputs": []
    },
    {
      "cell_type": "code",
      "metadata": {
        "id": "bk5A-QVlz6x-"
      },
      "source": [
        "df_hun.head()"
      ],
      "execution_count": null,
      "outputs": []
    },
    {
      "cell_type": "code",
      "metadata": {
        "id": "Yuj8m9LVz-Zq"
      },
      "source": [
        "df_hun = df_hun.iloc[:, 4:]"
      ],
      "execution_count": null,
      "outputs": []
    },
    {
      "cell_type": "code",
      "metadata": {
        "id": "eYKyN64R0uks"
      },
      "source": [
        "df_hun.head()"
      ],
      "execution_count": null,
      "outputs": []
    },
    {
      "cell_type": "code",
      "metadata": {
        "id": "tkZMXeaG006o"
      },
      "source": [
        "daily_hu = df_hun.sum(axis = 0)\n",
        "daily_hu.index = pd.to_datetime(daily_hu.index)"
      ],
      "execution_count": null,
      "outputs": []
    },
    {
      "cell_type": "code",
      "metadata": {
        "id": "F50Mzifd02Ap"
      },
      "source": [
        "df_hun.head()"
      ],
      "execution_count": null,
      "outputs": []
    },
    {
      "cell_type": "code",
      "metadata": {
        "id": "6X0epBIb0CyQ"
      },
      "source": [
        "daily_hu = daily_hu.diff().fillna(daily_hu[0]).astype(np.int64)\n"
      ],
      "execution_count": null,
      "outputs": []
    },
    {
      "cell_type": "code",
      "metadata": {
        "id": "-WL4Ki_zm9t-"
      },
      "source": [
        "print(daily_hu)"
      ],
      "execution_count": null,
      "outputs": []
    },
    {
      "cell_type": "code",
      "metadata": {
        "id": "A7c9fJgmhOuH"
      },
      "source": [
        "from sklearn import preprocessing\n",
        "train = np.expand_dims(daily_hu, axis=1)\n",
        "scaler = preprocessing.StandardScaler()\n",
        "train = scaler.fit_transform(train)"
      ],
      "execution_count": null,
      "outputs": []
    },
    {
      "cell_type": "code",
      "metadata": {
        "id": "ZnVXvKdqmuoi"
      },
      "source": [
        "print(train)"
      ],
      "execution_count": null,
      "outputs": []
    }
  ]
}