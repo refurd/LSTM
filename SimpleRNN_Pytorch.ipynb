{
  "nbformat": 4,
  "nbformat_minor": 0,
  "metadata": {
    "colab": {
      "name": "SimpleRNN Pytorch.ipynb",
      "provenance": [],
      "collapsed_sections": []
    },
    "kernelspec": {
      "name": "python3",
      "display_name": "Python 3"
    }
  },
  "cells": [
    {
      "cell_type": "markdown",
      "metadata": {
        "id": "8KpCnlWIHezq"
      },
      "source": [
        "# RNN megvalósítása PyTorch segítségével\n",
        "#### [RNN PyTorch dokumentáció](https://pytorch.org/docs/stable/generated/torch.nn.RNN.html)\n",
        "\n",
        "Szükséges könyvárak importálása"
      ]
    },
    {
      "cell_type": "code",
      "metadata": {
        "id": "gkdT-zPKkmig"
      },
      "source": [
        "import numpy as np\n",
        "import torch\n",
        "import torch.nn as nn"
      ],
      "execution_count": 2,
      "outputs": []
    },
    {
      "cell_type": "markdown",
      "metadata": {
        "id": "Z-AAY7hfH5oC"
      },
      "source": [
        "Bemenet létrehozása (tensor)"
      ]
    },
    {
      "cell_type": "code",
      "metadata": {
        "id": "4OgP8BWTlNm9"
      },
      "source": [
        "input = torch.Tensor([3, 4, 3, 2, 1, 0, -1, 0, 2, 10, 7, 2])"
      ],
      "execution_count": 4,
      "outputs": []
    },
    {
      "cell_type": "markdown",
      "metadata": {
        "id": "N9zgcNnAH9E9"
      },
      "source": [
        "RNN model létrehozása (paraméterek a dokumentációban)"
      ]
    },
    {
      "cell_type": "code",
      "metadata": {
        "id": "XWLThaA7lXiI"
      },
      "source": [
        "rnn_model = nn.RNN(input_size=1, hidden_size=3, num_layers=1,nonlinearity='tanh')"
      ],
      "execution_count": 5,
      "outputs": []
    },
    {
      "cell_type": "markdown",
      "metadata": {
        "id": "eRToel5ZILfG"
      },
      "source": [
        "Fontos a bemenő adat átalakítása megfelelő formátumba. Az RNN, LSTM modellek szekvenciával dolgoznak. Feldaraboljuk a bemenő adatot."
      ]
    },
    {
      "cell_type": "code",
      "metadata": {
        "id": "lLEUgtC3IVRL"
      },
      "source": [
        ""
      ],
      "execution_count": null,
      "outputs": []
    },
    {
      "cell_type": "code",
      "metadata": {
        "id": "9p5a3Qppmd9W"
      },
      "source": [
        "sequences = input.view(4, 3, 1)"
      ],
      "execution_count": 6,
      "outputs": []
    },
    {
      "cell_type": "code",
      "metadata": {
        "colab": {
          "base_uri": "https://localhost:8080/"
        },
        "id": "jkR3DUDlm7hL",
        "outputId": "2af0c32c-551b-47ce-9b17-7bd78309e724"
      },
      "source": [
        "sequences.shape"
      ],
      "execution_count": 7,
      "outputs": [
        {
          "output_type": "execute_result",
          "data": {
            "text/plain": [
              "torch.Size([4, 3, 1])"
            ]
          },
          "metadata": {
            "tags": []
          },
          "execution_count": 7
        }
      ]
    },
    {
      "cell_type": "markdown",
      "metadata": {
        "id": "ovxntYt8IWk7"
      },
      "source": [
        "Ezután már a bemenő adaton meghívhatjuk az elkészült modellünket."
      ]
    },
    {
      "cell_type": "code",
      "metadata": {
        "id": "lNLrCbEvnJp7"
      },
      "source": [
        "out, h_n = rnn_model(sequences)"
      ],
      "execution_count": 8,
      "outputs": []
    },
    {
      "cell_type": "code",
      "metadata": {
        "colab": {
          "base_uri": "https://localhost:8080/"
        },
        "id": "fc93r4AvnSzA",
        "outputId": "5114478d-f556-4d81-d86e-afda6a8e6484"
      },
      "source": [
        "print(out)"
      ],
      "execution_count": 9,
      "outputs": [
        {
          "output_type": "stream",
          "text": [
            "tensor([[[ 0.9754, -0.8686,  0.7484],\n",
            "         [ 0.9910, -0.9459,  0.7622],\n",
            "         [ 0.9754, -0.8686,  0.7484]],\n",
            "\n",
            "        [[ 0.9651, -0.7573,  0.7710],\n",
            "         [ 0.9129, -0.5013,  0.7577],\n",
            "         [ 0.7630, -0.0619,  0.7435]],\n",
            "\n",
            "        [[ 0.4032,  0.4125,  0.7321],\n",
            "         [ 0.6639,  0.0557,  0.7490],\n",
            "         [ 0.9151, -0.6337,  0.7810]],\n",
            "\n",
            "        [[ 0.9999, -0.9997,  0.8688],\n",
            "         [ 0.9993, -0.9955,  0.8386],\n",
            "         [ 0.9531, -0.7263,  0.7765]]], grad_fn=<StackBackward>)\n"
          ],
          "name": "stdout"
        }
      ]
    },
    {
      "cell_type": "code",
      "metadata": {
        "colab": {
          "base_uri": "https://localhost:8080/"
        },
        "id": "WwZJKF5Rndtq",
        "outputId": "0f2da1bb-c70e-49cc-9d40-ca9444e4bc5b"
      },
      "source": [
        "print(h_n)"
      ],
      "execution_count": 10,
      "outputs": [
        {
          "output_type": "stream",
          "text": [
            "tensor([[[ 0.9999, -0.9997,  0.8688],\n",
            "         [ 0.9993, -0.9955,  0.8386],\n",
            "         [ 0.9531, -0.7263,  0.7765]]], grad_fn=<StackBackward>)\n"
          ],
          "name": "stdout"
        }
      ]
    }
  ]
}